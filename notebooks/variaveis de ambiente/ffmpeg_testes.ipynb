{
 "cells": [
  {
   "cell_type": "code",
   "execution_count": 15,
   "id": "de69cad9",
   "metadata": {},
   "outputs": [],
   "source": [
    "from dataclasses import dataclass\n",
    "from pathlib import Path\n",
    "import os\n",
    "from dotenv import load_dotenv, dotenv_values"
   ]
  },
  {
   "cell_type": "code",
   "execution_count": 16,
   "id": "2fa3c506",
   "metadata": {},
   "outputs": [
    {
     "name": "stdout",
     "output_type": "stream",
     "text": [
      "<class 'str'>\n",
      "C:/Users/anton/lab/fiap_tech_challenge_4_rec/notebooks/variaveis de ambiente/.env.local\n"
     ]
    }
   ],
   "source": [
    "env_dir = Path('./.env.local').resolve().as_posix()\n",
    "print(type(env_dir))\n",
    "print(env_dir)"
   ]
  },
  {
   "cell_type": "code",
   "execution_count": 17,
   "id": "2b7f1cca",
   "metadata": {},
   "outputs": [
    {
     "name": "stdout",
     "output_type": "stream",
     "text": [
      "OrderedDict([('BINARIO', 'C:\\\\Users\\\\anton\\\\lab\\\\fiap_tech_challenge_4_rec\\\\bin\\\\ffmpeg-7.1.1-full_build\\\\bin'), ('BINARIO_EXE', 'C:\\\\Users\\\\anton\\\\lab\\\\fiap_tech_challenge_4_rec\\\\bin\\\\ffmpeg-7.1.1-full_build\\\\bin\\\\ffmpeg.exe'), ('VAR_VAZIA', '')])\n"
     ]
    }
   ],
   "source": [
    "# --- Verificar as Variaveis de Ambiente ---\n",
    "config = dotenv_values (dotenv_path=env_dir)\n",
    "print(config)"
   ]
  },
  {
   "cell_type": "code",
   "execution_count": 18,
   "id": "716e3a29",
   "metadata": {},
   "outputs": [
    {
     "data": {
      "text/plain": [
       "True"
      ]
     },
     "execution_count": 18,
     "metadata": {},
     "output_type": "execute_result"
    }
   ],
   "source": [
    "# --- Carregar as variaveis de ambiente ---\n",
    "load_dotenv(dotenv_path=env_dir, override=True)"
   ]
  },
  {
   "cell_type": "code",
   "execution_count": 19,
   "id": "bc79ea3e",
   "metadata": {},
   "outputs": [
    {
     "name": "stdout",
     "output_type": "stream",
     "text": [
      "BINARIO: C:\\Users\\anton\\lab\\fiap_tech_challenge_4_rec\\bin\\ffmpeg-7.1.1-full_build\\bin\n",
      "BINARIO_EXE: C:\\Users\\anton\\lab\\fiap_tech_challenge_4_rec\\bin\\ffmpeg-7.1.1-full_build\\bin\\ffmpeg.exe\n",
      "VAR_VAZIA: \n"
     ]
    }
   ],
   "source": [
    "print(\"BINARIO:\",os.getenv('BINARIO'))\n",
    "print(\"BINARIO_EXE:\", os.getenv('BINARIO_EXE'))\n",
    "print(\"VAR_VAZIA:\", os.getenv('VAR_VAZIA'))"
   ]
  },
  {
   "cell_type": "code",
   "execution_count": 20,
   "id": "c8822580",
   "metadata": {},
   "outputs": [],
   "source": [
    "# --- Função de Fail Fast ---\n",
    "def get_required_env(var_name: str) -> str:\n",
    "    \"\"\"\n",
    "    Tenta obter uma variável de ambiente. Se não for encontrada, levanta um erro.\n",
    "    Implementa o princípio 'Fail Fast'.\n",
    "    \"\"\"\n",
    "    value = os.getenv(var_name)\n",
    "    if value is None or value == '':\n",
    "        raise EnvironmentError(\n",
    "            f\"Variável de ambiente obrigatória '{var_name}' não encontrada. \"\n",
    "            f\"Verifique seu arquivo .env ou variáveis do sistema.\"\n",
    "        )\n",
    "    return value"
   ]
  },
  {
   "cell_type": "code",
   "execution_count": 21,
   "id": "81396d58",
   "metadata": {},
   "outputs": [
    {
     "ename": "OSError",
     "evalue": "Variável de ambiente obrigatória 'VAR_VAZIA' não encontrada. Verifique seu arquivo .env ou variáveis do sistema.",
     "output_type": "error",
     "traceback": [
      "\u001b[1;31m---------------------------------------------------------------------------\u001b[0m",
      "\u001b[1;31mOSError\u001b[0m                                   Traceback (most recent call last)",
      "Cell \u001b[1;32mIn[21], line 2\u001b[0m\n\u001b[0;32m      1\u001b[0m \u001b[38;5;129m@dataclass\u001b[39m(frozen\u001b[38;5;241m=\u001b[39m\u001b[38;5;28;01mTrue\u001b[39;00m)\n\u001b[1;32m----> 2\u001b[0m \u001b[38;5;28;01mclass\u001b[39;00m\u001b[38;5;250m \u001b[39m\u001b[38;5;21;01mSettings\u001b[39;00m:\n\u001b[0;32m      3\u001b[0m     ffmpeg_bin: Path \u001b[38;5;241m=\u001b[39m Path(get_required_env(\u001b[38;5;124m'\u001b[39m\u001b[38;5;124mBINARIO\u001b[39m\u001b[38;5;124m'\u001b[39m))\u001b[38;5;241m.\u001b[39mresolve()\n\u001b[0;32m      4\u001b[0m     ffmpeg_exe: \u001b[38;5;28mstr\u001b[39m \u001b[38;5;241m=\u001b[39m Path(get_required_env(\u001b[38;5;124m'\u001b[39m\u001b[38;5;124mBINARIO_EXE\u001b[39m\u001b[38;5;124m'\u001b[39m))\u001b[38;5;241m.\u001b[39mresolve()\n",
      "Cell \u001b[1;32mIn[21], line 5\u001b[0m, in \u001b[0;36mSettings\u001b[1;34m()\u001b[0m\n\u001b[0;32m      3\u001b[0m ffmpeg_bin: Path \u001b[38;5;241m=\u001b[39m Path(get_required_env(\u001b[38;5;124m'\u001b[39m\u001b[38;5;124mBINARIO\u001b[39m\u001b[38;5;124m'\u001b[39m))\u001b[38;5;241m.\u001b[39mresolve()\n\u001b[0;32m      4\u001b[0m ffmpeg_exe: \u001b[38;5;28mstr\u001b[39m \u001b[38;5;241m=\u001b[39m Path(get_required_env(\u001b[38;5;124m'\u001b[39m\u001b[38;5;124mBINARIO_EXE\u001b[39m\u001b[38;5;124m'\u001b[39m))\u001b[38;5;241m.\u001b[39mresolve()\n\u001b[1;32m----> 5\u001b[0m var_vazia: \u001b[38;5;28mstr\u001b[39m \u001b[38;5;241m=\u001b[39m Path(\u001b[43mget_required_env\u001b[49m\u001b[43m(\u001b[49m\u001b[38;5;124;43m'\u001b[39;49m\u001b[38;5;124;43mVAR_VAZIA\u001b[39;49m\u001b[38;5;124;43m'\u001b[39;49m\u001b[43m)\u001b[49m)\u001b[38;5;241m.\u001b[39mresolve()\n",
      "Cell \u001b[1;32mIn[20], line 9\u001b[0m, in \u001b[0;36mget_required_env\u001b[1;34m(var_name)\u001b[0m\n\u001b[0;32m      7\u001b[0m value \u001b[38;5;241m=\u001b[39m os\u001b[38;5;241m.\u001b[39mgetenv(var_name)\n\u001b[0;32m      8\u001b[0m \u001b[38;5;28;01mif\u001b[39;00m value \u001b[38;5;129;01mis\u001b[39;00m \u001b[38;5;28;01mNone\u001b[39;00m \u001b[38;5;129;01mor\u001b[39;00m value \u001b[38;5;241m==\u001b[39m \u001b[38;5;124m'\u001b[39m\u001b[38;5;124m'\u001b[39m:\n\u001b[1;32m----> 9\u001b[0m     \u001b[38;5;28;01mraise\u001b[39;00m \u001b[38;5;167;01mEnvironmentError\u001b[39;00m(\n\u001b[0;32m     10\u001b[0m         \u001b[38;5;124mf\u001b[39m\u001b[38;5;124m\"\u001b[39m\u001b[38;5;124mVariável de ambiente obrigatória \u001b[39m\u001b[38;5;124m'\u001b[39m\u001b[38;5;132;01m{\u001b[39;00mvar_name\u001b[38;5;132;01m}\u001b[39;00m\u001b[38;5;124m'\u001b[39m\u001b[38;5;124m não encontrada. \u001b[39m\u001b[38;5;124m\"\u001b[39m\n\u001b[0;32m     11\u001b[0m         \u001b[38;5;124mf\u001b[39m\u001b[38;5;124m\"\u001b[39m\u001b[38;5;124mVerifique seu arquivo .env ou variáveis do sistema.\u001b[39m\u001b[38;5;124m\"\u001b[39m\n\u001b[0;32m     12\u001b[0m     )\n\u001b[0;32m     13\u001b[0m \u001b[38;5;28;01mreturn\u001b[39;00m value\n",
      "\u001b[1;31mOSError\u001b[0m: Variável de ambiente obrigatória 'VAR_VAZIA' não encontrada. Verifique seu arquivo .env ou variáveis do sistema."
     ]
    }
   ],
   "source": [
    "@dataclass(frozen=True)\n",
    "class Settings:\n",
    "    ffmpeg_bin: Path = Path(get_required_env('BINARIO')).resolve()\n",
    "    ffmpeg_exe: str = Path(get_required_env('BINARIO_EXE')).resolve()\n",
    "    var_vazia: str = Path(get_required_env('VAR_VAZIA')).resolve()\n"
   ]
  },
  {
   "cell_type": "code",
   "execution_count": null,
   "id": "4421abdd",
   "metadata": {},
   "outputs": [],
   "source": [
    "for i in os.getenv(\"PATH\").split(\";\"):\n",
    "    print(i)\n"
   ]
  }
 ],
 "metadata": {
  "kernelspec": {
   "display_name": "example",
   "language": "python",
   "name": "python3"
  },
  "language_info": {
   "codemirror_mode": {
    "name": "ipython",
    "version": 3
   },
   "file_extension": ".py",
   "mimetype": "text/x-python",
   "name": "python",
   "nbconvert_exporter": "python",
   "pygments_lexer": "ipython3",
   "version": "3.10.0"
  }
 },
 "nbformat": 4,
 "nbformat_minor": 5
}
